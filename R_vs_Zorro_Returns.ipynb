{
  "nbformat": 4,
  "nbformat_minor": 0,
  "metadata": {
    "colab": {
      "provenance": [],
      "authorship_tag": "ABX9TyOggM+FYNAPYyVFJiccZA/H",
      "include_colab_link": true
    },
    "kernelspec": {
      "name": "ir",
      "display_name": "R"
    },
    "language_info": {
      "name": "R"
    }
  },
  "cells": [
    {
      "cell_type": "markdown",
      "metadata": {
        "id": "view-in-github",
        "colab_type": "text"
      },
      "source": [
        "<a href=\"https://colab.research.google.com/github/vitakot/comparing_returns/blob/master/R_vs_Zorro_Returns.ipynb\" target=\"_parent\"><img src=\"https://colab.research.google.com/assets/colab-badge.svg\" alt=\"Open In Colab\"/></a>"
      ]
    },
    {
      "cell_type": "markdown",
      "source": [
        "I still have trouble comparing returns calculated in R and Zorro or Nautilus traders. I'm trying to summarize it using information given here: \n",
        "\n",
        "https://github.com/RWLab/crypto-pod/blob/main/research/2_Simple_Quant_Analysis_of_Daily_BTC_Returns.ipynb\n",
        "\n",
        "and here: \n",
        "\n",
        "https://colab.research.google.com/drive/1FwPbULByggFnrBbaLxNKK_EbYrs8Yebv?usp=sharing#scrollTo=ID-aMUqGJele\n",
        "\n",
        "\n"
      ],
      "metadata": {
        "id": "JkvudMTxTBfq"
      }
    },
    {
      "cell_type": "code",
      "execution_count": 18,
      "metadata": {
        "id": "gdWTVcyXKQi5"
      },
      "outputs": [],
      "source": [
        "dependencies <- c(\n",
        "  \"pacman\", \"ttr\", \"googleauthr\", \"doparallel\", \"googlecloudstorager\", \n",
        "  \"iterators\", \"R.methodsS3\", \"openssl\", \"foreach\", \"xts\", \"R.oo\", \"feather\", \n",
        "  \"R.utils\"\n",
        ")\n",
        "\n",
        "libs_to_load <- c(\"tidyverse\", \"lubridate\", \"purrr\", \"stringr\", \"zoo\", \"glue\", \"here\")\n",
        "\n",
        "install_from_cran <- gsub(\"^(?!R\\\\.)([\\\\w]+)\", \"\\\\L\\\\1\", unique(c(libs_to_load, dependencies)), perl = TRUE)  # convert to lowercase all letters other than an \"R\" at the start followed by \".\"\n",
        "\n",
        "msg1 <- system2('sudo', args = c('apt-get', 'update'),\n",
        "  stdout = TRUE,\n",
        "  stderr = TRUE,\n",
        "  wait = TRUE\n",
        ")\n",
        "\n",
        "msg2 <- system2(\n",
        "  'sudo', \n",
        "  args = c('apt', 'install', sub('', 'r-cran-', install_from_cran, '-y --fix-missing')),\n",
        "  stdout = TRUE,\n",
        "  stderr = TRUE,\n",
        "  wait = TRUE\n",
        ")\n",
        "\n",
        "pacman::p_load(char = libs_to_load, install = FALSE)"
      ]
    },
    {
      "cell_type": "markdown",
      "source": [
        "Let's start with the simplest case - returns from being long only in BTC. First Load file coinmetrics_btc_xrp.csv from my Google Drive. The file contains daily close prices for BTC and XRP."
      ],
      "metadata": {
        "id": "lvC7pzlVUvzh"
      }
    },
    {
      "cell_type": "code",
      "source": [
        "system(\"gdown --id 1T-C19juxNaTUF7irnzuZFm4Zcqsm4EHp\")"
      ],
      "metadata": {
        "id": "2PI5ctWFQzdU"
      },
      "execution_count": 19,
      "outputs": []
    },
    {
      "cell_type": "code",
      "source": [
        "prices <- read.csv(\"coinmetrics_btc_xrp.csv\", header = TRUE, sep = \",\", stringsAsFactors = FALSE)\n",
        "head(prices)"
      ],
      "metadata": {
        "colab": {
          "base_uri": "https://localhost:8080/",
          "height": 286
        },
        "id": "d6nZzTT-Mx8u",
        "outputId": "34d25608-1c5e-4057-ac84-3a17afaeec9b"
      },
      "execution_count": 21,
      "outputs": [
        {
          "output_type": "display_data",
          "data": {
            "text/html": [
              "<table class=\"dataframe\">\n",
              "<caption>A data.frame: 6 × 4</caption>\n",
              "<thead>\n",
              "\t<tr><th></th><th scope=col>ticker</th><th scope=col>date</th><th scope=col>price_usd</th><th scope=col>market_cap</th></tr>\n",
              "\t<tr><th></th><th scope=col>&lt;chr&gt;</th><th scope=col>&lt;chr&gt;</th><th scope=col>&lt;dbl&gt;</th><th scope=col>&lt;dbl&gt;</th></tr>\n",
              "</thead>\n",
              "<tbody>\n",
              "\t<tr><th scope=row>1</th><td>BTC</td><td>2010-07-18</td><td>0.08584000</td><td>295959.2</td></tr>\n",
              "\t<tr><th scope=row>2</th><td>BTC</td><td>2010-07-19</td><td>0.08080000</td><td>279285.2</td></tr>\n",
              "\t<tr><th scope=row>3</th><td>BTC</td><td>2010-07-20</td><td>0.07473573</td><td>259000.4</td></tr>\n",
              "\t<tr><th scope=row>4</th><td>BTC</td><td>2010-07-21</td><td>0.07919286</td><td>275266.5</td></tr>\n",
              "\t<tr><th scope=row>5</th><td>BTC</td><td>2010-07-22</td><td>0.05846976</td><td>203749.6</td></tr>\n",
              "\t<tr><th scope=row>6</th><td>BTC</td><td>2010-07-23</td><td>0.06059287</td><td>211735.7</td></tr>\n",
              "</tbody>\n",
              "</table>\n"
            ],
            "text/markdown": "\nA data.frame: 6 × 4\n\n| <!--/--> | ticker &lt;chr&gt; | date &lt;chr&gt; | price_usd &lt;dbl&gt; | market_cap &lt;dbl&gt; |\n|---|---|---|---|---|\n| 1 | BTC | 2010-07-18 | 0.08584000 | 295959.2 |\n| 2 | BTC | 2010-07-19 | 0.08080000 | 279285.2 |\n| 3 | BTC | 2010-07-20 | 0.07473573 | 259000.4 |\n| 4 | BTC | 2010-07-21 | 0.07919286 | 275266.5 |\n| 5 | BTC | 2010-07-22 | 0.05846976 | 203749.6 |\n| 6 | BTC | 2010-07-23 | 0.06059287 | 211735.7 |\n\n",
            "text/latex": "A data.frame: 6 × 4\n\\begin{tabular}{r|llll}\n  & ticker & date & price\\_usd & market\\_cap\\\\\n  & <chr> & <chr> & <dbl> & <dbl>\\\\\n\\hline\n\t1 & BTC & 2010-07-18 & 0.08584000 & 295959.2\\\\\n\t2 & BTC & 2010-07-19 & 0.08080000 & 279285.2\\\\\n\t3 & BTC & 2010-07-20 & 0.07473573 & 259000.4\\\\\n\t4 & BTC & 2010-07-21 & 0.07919286 & 275266.5\\\\\n\t5 & BTC & 2010-07-22 & 0.05846976 & 203749.6\\\\\n\t6 & BTC & 2010-07-23 & 0.06059287 & 211735.7\\\\\n\\end{tabular}\n",
            "text/plain": [
              "  ticker date       price_usd  market_cap\n",
              "1 BTC    2010-07-18 0.08584000 295959.2  \n",
              "2 BTC    2010-07-19 0.08080000 279285.2  \n",
              "3 BTC    2010-07-20 0.07473573 259000.4  \n",
              "4 BTC    2010-07-21 0.07919286 275266.5  \n",
              "5 BTC    2010-07-22 0.05846976 203749.6  \n",
              "6 BTC    2010-07-23 0.06059287 211735.7  "
            ]
          },
          "metadata": {}
        }
      ]
    }
  ]
}